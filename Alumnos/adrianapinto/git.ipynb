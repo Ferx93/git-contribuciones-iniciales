{
 "cells": [
  {
   "cell_type": "markdown",
   "id": "c2a0fe4b",
   "metadata": {},
   "source": [
    "#NOTEBOOK PARA CREAR GIT Y GITHUB\n",
    "\n"
   ]
  }
 ],
 "metadata": {
  "language_info": {
   "name": "python"
  }
 },
 "nbformat": 4,
 "nbformat_minor": 5
}
